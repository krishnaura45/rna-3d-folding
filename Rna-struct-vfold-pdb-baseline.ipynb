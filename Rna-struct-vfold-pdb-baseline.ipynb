{
 "cells": [
  {
   "cell_type": "markdown",
   "id": "1ead36cd",
   "metadata": {},
   "source": [
    "# --- Notebook Setup ---"
   ]
  },
  {
   "cell_type": "code",
   "execution_count": 1,
   "id": "ee9e357b",
   "metadata": {
    "_cell_guid": "b1076dfc-b9ad-4769-8c92-a6c4dae69d19",
    "_uuid": "8f2839f25d086af736a60e9eeb907d3b93b6e0e5",
    "execution": {
     "iopub.execute_input": "2025-04-28T10:41:45.026438Z",
     "iopub.status.busy": "2025-04-28T10:41:45.026025Z",
     "iopub.status.idle": "2025-04-28T10:41:45.084894Z",
     "shell.execute_reply": "2025-04-28T10:41:45.083644Z"
    },
    "papermill": {
     "duration": 0.067671,
     "end_time": "2025-04-28T10:41:45.086690",
     "exception": false,
     "start_time": "2025-04-28T10:41:45.019019",
     "status": "completed"
    },
    "tags": []
   },
   "outputs": [
    {
     "name": "stdout",
     "output_type": "stream",
     "text": [
      "LOGGING TIME OF START: 2025-04-28 18:41:45\n",
      "PIP INSTALL OK !!!!\n"
     ]
    }
   ],
   "source": [
    "from datetime import datetime\n",
    "import pytz\n",
    "print('LOGGING TIME OF START:',  datetime.strftime(datetime.now(pytz.timezone('Asia/Singapore')), \"%Y-%m-%d %H:%M:%S\"))\n",
    "\n",
    "\n",
    "try:\n",
    "    import Bio\n",
    "except:\n",
    "    pass\n",
    "    #for drfold2 --------\n",
    "    #!pip install biopython\n",
    "    #!pip install /kaggle/input/biopython/biopython-1.85-cp310-cp310-manylinux_2_17_x86_64.manylinux2014_x86_64.whl\n",
    "\n",
    "print('PIP INSTALL OK !!!!')"
   ]
  },
  {
   "cell_type": "code",
   "execution_count": null,
   "id": "5a141bd2",
   "metadata": {
    "execution": {
     "iopub.execute_input": "2025-04-28T10:41:45.097177Z",
     "iopub.status.busy": "2025-04-28T10:41:45.096782Z",
     "iopub.status.idle": "2025-04-28T10:41:50.339284Z",
     "shell.execute_reply": "2025-04-28T10:41:50.338162Z"
    },
    "papermill": {
     "duration": 5.249957,
     "end_time": "2025-04-28T10:41:50.341391",
     "exception": false,
     "start_time": "2025-04-28T10:41:45.091434",
     "status": "completed"
    },
    "tags": []
   },
   "outputs": [],
   "source": [
    "import os,sys\n",
    "\n",
    "import pandas as pd\n",
    "pd.set_option('display.max_columns', 20)\n",
    "pd.set_option('display.expand_frame_repr', False)\n",
    "\n",
    "import numpy as np\n",
    "import torch\n",
    "import torch.nn as nn\n",
    "import torch.nn.functional as F\n",
    "from timeit import default_timer as timer\n",
    "import re\n",
    "from pathlib import Path\n",
    "import matplotlib \n",
    "import matplotlib.pyplot as plt\n",
    "\n",
    "print('IMPORT OK!!!')"
   ]
  },
  {
   "cell_type": "markdown",
   "id": "5ca7cfd1",
   "metadata": {},
   "source": [
    "# --- Constants ---"
   ]
  },
  {
   "cell_type": "code",
   "execution_count": null,
   "id": "9cd16270",
   "metadata": {
    "execution": {
     "iopub.execute_input": "2025-04-28T10:41:50.409789Z",
     "iopub.status.busy": "2025-04-28T10:41:50.409380Z",
     "iopub.status.idle": "2025-04-28T10:41:50.413858Z",
     "shell.execute_reply": "2025-04-28T10:41:50.412832Z"
    },
    "papermill": {
     "duration": 0.01116,
     "end_time": "2025-04-28T10:41:50.415522",
     "exception": false,
     "start_time": "2025-04-28T10:41:50.404362",
     "status": "completed"
    },
    "tags": []
   },
   "outputs": [],
   "source": [
    "\n",
    "PDB_DIR = Path(\"/kaggle/input/rna-folding-top-data\")  # Directory where all .pdb files are stored\n",
    "TEST_SEQ_FILE = \"/kaggle/input/stanford-rna-3d-folding/test_sequences.csv\"\n",
    "\n",
    "PDB_FILES = [\n",
    "    \"/kaggle/input/rna-folding-top-data/R1261TS481_2-vfold-0.786.pdb\",\n",
    "    \"/kaggle/input/rna-folding-top-data/R1262TS481_2-vfold-0.791.pdb\",\n",
    "    \"/kaggle/input/rna-folding-top-data/R1263TS481_1-vfold-0.977.pdb\",\n",
    "    \"/kaggle/input/rna-folding-top-data/R1264TS481_1-vfold-0.887.pdb\",\n",
    "    \"/kaggle/input/rna-folding-top-data/R1291TS481_1-vfold-0.834.pdb\"\n",
    "]\n",
    "\n",
    "SUBMISSION_FILE = \"/kaggle/working/submission.csv\""
   ]
  },
  {
   "cell_type": "code",
   "execution_count": null,
   "id": "4ee35d0c",
   "metadata": {},
   "outputs": [],
   "source": [
    "# --- Load Test Sequences ---\n",
    "test_seqs = pd.read_csv(TEST_SEQ_FILE)\n",
    "\n",
    "# --- Expand Test Sequences to per-residue Rows ---\n",
    "expanded_rows = []\n",
    "for idx, row in test_seqs.iterrows():\n",
    "    target_id = row['target_id']\n",
    "    sequence = row['sequence']\n",
    "    for i, base in enumerate(sequence):\n",
    "        expanded_rows.append({\n",
    "            'ID': f\"{target_id}_{i+1}\",\n",
    "            'target_id': target_id,\n",
    "            'resname': base,\n",
    "            'resid': i+1\n",
    "        })"
   ]
  },
  {
   "cell_type": "code",
   "execution_count": null,
   "id": "214aa59d",
   "metadata": {},
   "outputs": [],
   "source": [
    "test_df = pd.DataFrame(expanded_rows)\n",
    "\n",
    "# --- PDB Parsing Functions ---\n",
    "def extract_c1prime_coords_with_resid(pdb_path):\n",
    "    coords = {}\n",
    "    with open(pdb_path, 'r') as f:\n",
    "        for line in f:\n",
    "            if line.startswith(\"ATOM\") and line[12:16].strip() == \"C1'\":\n",
    "                resid = int(line[22:26])\n",
    "                x = float(line[30:38])\n",
    "                y = float(line[38:46])\n",
    "                z = float(line[46:54])\n",
    "                coords[resid] = [x, y, z]\n",
    "    return coords\n",
    "\n",
    "# --- Load Coordinates from PDB Models ---\n",
    "model_coords = []\n",
    "for pdb_file in PDB_FILES:\n",
    "    coords = extract_c1prime_coords_with_resid(pdb_file)\n",
    "    model_coords.append(coords)\n",
    "\n",
    "# --- Align Models to Expanded Test Data ---\n",
    "num_residues = len(test_df)\n",
    "submission = pd.DataFrame({\n",
    "    'ID': test_df['ID'],\n",
    "    'resname': test_df['resname'],\n",
    "    'resid': test_df['resid']\n",
    "})"
   ]
  },
  {
   "cell_type": "code",
   "execution_count": null,
   "id": "e2534dc2",
   "metadata": {
    "execution": {
     "iopub.execute_input": "2025-04-28T10:41:50.531660Z",
     "iopub.status.busy": "2025-04-28T10:41:50.531286Z",
     "iopub.status.idle": "2025-04-28T10:41:51.333039Z",
     "shell.execute_reply": "2025-04-28T10:41:51.331882Z"
    },
    "papermill": {
     "duration": 0.809161,
     "end_time": "2025-04-28T10:41:51.335335",
     "exception": false,
     "start_time": "2025-04-28T10:41:50.526174",
     "status": "completed"
    },
    "tags": []
   },
   "outputs": [
    {
     "name": "stdout",
     "output_type": "stream",
     "text": [
      "✅ Final Submission file generated: /kaggle/working/submission.csv\n"
     ]
    }
   ],
   "source": [
    "for model_idx, coords_dict in enumerate(model_coords):\n",
    "    x_list, y_list, z_list = [], [], []\n",
    "    for _, row in test_df.iterrows():\n",
    "        resid = row['resid']\n",
    "        coord = coords_dict.get(resid)\n",
    "        if coord is None:\n",
    "            # Padding if missing\n",
    "            if len(x_list) > 0:\n",
    "                coord = [x_list[-1], y_list[-1], z_list[-1]]\n",
    "            else:\n",
    "                coord = [0.0, 0.0, 0.0]\n",
    "        x_list.append(coord[0])\n",
    "        y_list.append(coord[1])\n",
    "        z_list.append(coord[2])\n",
    "\n",
    "    submission[f'x_{model_idx+1}'] = x_list\n",
    "    submission[f'y_{model_idx+1}'] = y_list\n",
    "    submission[f'z_{model_idx+1}'] = z_list\n",
    "\n",
    "# --- Save Submission ---\n",
    "submission.to_csv(SUBMISSION_FILE, index=False)\n",
    "\n",
    "print(f\"✅ Final Submission file generated: {SUBMISSION_FILE}\")"
   ]
  }
 ],
 "metadata": {
  "kaggle": {
   "accelerator": "none",
   "dataSources": [
    {
     "databundleVersionId": 12024591,
     "sourceId": 87793,
     "sourceType": "competition"
    },
    {
     "datasetId": 6742586,
     "sourceId": 10855324,
     "sourceType": "datasetVersion"
    },
    {
     "datasetId": 6760509,
     "sourceId": 10880419,
     "sourceType": "datasetVersion"
    },
    {
     "datasetId": 6889817,
     "sourceId": 11065669,
     "sourceType": "datasetVersion"
    },
    {
     "datasetId": 6921394,
     "sourceId": 11111396,
     "sourceType": "datasetVersion"
    },
    {
     "datasetId": 7251241,
     "sourceId": 11591923,
     "sourceType": "datasetVersion"
    }
   ],
   "dockerImageVersionId": 30918,
   "isGpuEnabled": false,
   "isInternetEnabled": false,
   "language": "python",
   "sourceType": "notebook"
  },
  "kernelspec": {
   "display_name": "Python 3",
   "language": "python",
   "name": "python3"
  },
  "language_info": {
   "codemirror_mode": {
    "name": "ipython",
    "version": 3
   },
   "file_extension": ".py",
   "mimetype": "text/x-python",
   "name": "python",
   "nbconvert_exporter": "python",
   "pygments_lexer": "ipython3",
   "version": "3.10.12"
  },
  "papermill": {
   "default_parameters": {},
   "duration": 11.619406,
   "end_time": "2025-04-28T10:41:52.970482",
   "environment_variables": {},
   "exception": null,
   "input_path": "__notebook__.ipynb",
   "output_path": "__notebook__.ipynb",
   "parameters": {},
   "start_time": "2025-04-28T10:41:41.351076",
   "version": "2.6.0"
  }
 },
 "nbformat": 4,
 "nbformat_minor": 5
}
